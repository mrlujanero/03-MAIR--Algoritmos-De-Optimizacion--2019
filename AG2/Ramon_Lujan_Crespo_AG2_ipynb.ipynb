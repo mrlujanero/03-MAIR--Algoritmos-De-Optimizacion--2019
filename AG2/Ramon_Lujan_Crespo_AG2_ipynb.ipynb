{
  "nbformat": 4,
  "nbformat_minor": 0,
  "metadata": {
    "colab": {
      "name": "Ramon Lujan Crespo-AG2.ipynb.ipynb",
      "version": "0.3.2",
      "provenance": [],
      "collapsed_sections": [],
      "include_colab_link": true
    },
    "kernelspec": {
      "name": "python3",
      "display_name": "Python 3"
    }
  },
  "cells": [
    {
      "cell_type": "markdown",
      "metadata": {
        "id": "view-in-github",
        "colab_type": "text"
      },
      "source": [
        "<a href=\"https://colab.research.google.com/github/mrlujanero/03-MAIR--Algoritmos-De-Optimizacion--2019/blob/master/AG2/Ramon_Lujan_Crespo_AG2_ipynb.ipynb\" target=\"_parent\"><img src=\"https://colab.research.google.com/assets/colab-badge.svg\" alt=\"Open In Colab\"/></a>"
      ]
    },
    {
      "metadata": {
        "id": "CP35AKS5NjQV",
        "colab_type": "text"
      },
      "cell_type": "markdown",
      "source": [
        "# AG2 - Actividad Guiada 2\n",
        "# Ramon Lujan Crespo\n",
        "# URL - https://github.com/mrlujanero/03-MAIR--Algoritmos-De-Optimizacion--2019/tree/master/AG2"
      ]
    },
    {
      "metadata": {
        "id": "sAVgj6yFNvAa",
        "colab_type": "code",
        "colab": {
          "base_uri": "https://localhost:8080/",
          "height": 34
        },
        "outputId": "9285a952-0589-48fb-9a2e-41f85d9b3efd"
      },
      "cell_type": "code",
      "source": [
        "import math\n",
        "import random\n",
        "\n",
        "def distancia(A,B):\n",
        "  if type(A) == int or type(A) == float:\n",
        "    return abs(A-B)\n",
        "  else:\n",
        "    return math.sqrt(sum([(A[i]-B[i])**2 for i in range(len(A))]))"
      ],
      "execution_count": 1,
      "outputs": [
        {
          "output_type": "execute_result",
          "data": {
            "text/plain": [
              "2.0"
            ]
          },
          "metadata": {
            "tags": []
          },
          "execution_count": 1
        }
      ]
    },
    {
      "metadata": {
        "id": "NRizBx48S5M_",
        "colab_type": "code",
        "colab": {}
      },
      "cell_type": "code",
      "source": [
        "N = 100\n",
        "\n",
        "LISTA_2D = [(random.randrange(1,N*10),random.randrange(1,N*10)) for _ in range(N)]\n",
        "\n"
      ],
      "execution_count": 0,
      "outputs": []
    },
    {
      "metadata": {
        "id": "ovw_Fp4dTTaG",
        "colab_type": "code",
        "colab": {
          "base_uri": "https://localhost:8080/",
          "height": 34
        },
        "outputId": "f0b972a4-f4fa-4698-be5a-fe6bb42d7850"
      },
      "cell_type": "code",
      "source": [
        "#fuerza bruta\n",
        "def distancia_fuerza_bruta(L):\n",
        "  \n",
        "  mejor_distancia = math.inf\n",
        "  \n",
        "  A,B = (),()\n",
        "  \n",
        "  for i in range(len(L)-1):\n",
        "    for j in range(i+1,len(L)):\n",
        "      distanciaEntrePuntos = distancia(L[i],L[j])\n",
        "      if distanciaEntrePuntos < mejor_distancia:\n",
        "        A,B = L[i],L[j]\n",
        "        mejor_distancia = distanciaEntrePuntos\n",
        "        \n",
        "  return [A,B]\n",
        "\n",
        "distancia_fuerza_bruta(LISTA_2D)"
      ],
      "execution_count": 14,
      "outputs": [
        {
          "output_type": "execute_result",
          "data": {
            "text/plain": [
              "[(852, 852), (855, 849)]"
            ]
          },
          "metadata": {
            "tags": []
          },
          "execution_count": 14
        }
      ]
    },
    {
      "metadata": {
        "id": "Oufk6FTMUfIC",
        "colab_type": "code",
        "colab": {
          "base_uri": "https://localhost:8080/",
          "height": 34
        },
        "outputId": "76740c78-e506-41c6-a204-b8690fc8e67f"
      },
      "cell_type": "code",
      "source": [
        "def distancia_divide_y_venceras(L):\n",
        "  #Si hay pocos resolver por fuerza bruta\n",
        "  if len(L) < 10:\n",
        "    return distancia_fuerza_bruta(L)\n",
        "  \n",
        "  #Dividir en listas grandes\n",
        "  pivote = sum([L[i][0] for i in range(len(L))])/len(L)\n",
        "  \n",
        "  sorted_list = sorted(L, key=lambda x: x[0])\n",
        "  LISTA_IZQ = sorted_list[:len(sorted_list)//2]\n",
        "  LISTA_DCH = sorted_list[len(sorted_list)//2:]\n",
        "  \n",
        "  puntos_izq = distancia_divide_y_venceras(LISTA_IZQ)\n",
        "  puntos_dch = distancia_divide_y_venceras(LISTA_DCH)\n",
        "  \n",
        "  return distancia_fuerza_bruta(puntos_izq + puntos_dch)\n",
        "  \n",
        "distancia_divide_y_venceras(LISTA_2D)"
      ],
      "execution_count": 15,
      "outputs": [
        {
          "output_type": "execute_result",
          "data": {
            "text/plain": [
              "[(442, 68), (446, 75)]"
            ]
          },
          "metadata": {
            "tags": []
          },
          "execution_count": 15
        }
      ]
    },
    {
      "metadata": {
        "id": "mmXvyUrZaEJo",
        "colab_type": "code",
        "colab": {
          "base_uri": "https://localhost:8080/",
          "height": 255
        },
        "outputId": "04920b00-5e57-46b7-bcda-2ebd72ed26bb"
      },
      "cell_type": "code",
      "source": [
        "# viaje por el rio\n",
        "TARIFAS = [\n",
        "    [0,5,4,3,999,999,999],\n",
        "    [999,0,999,2,3,999,1],\n",
        "    [999,999,0,1,999,4,10],\n",
        "    [999,999,999,0,5,6,9],\n",
        "    [999,999,999,999,0,999,4],\n",
        "    [999,999,999,999,999,0,3],\n",
        "    [999,999,999,999,999,999,0]\n",
        "]\n",
        "def Precios(tarifas):\n",
        "  N = len(tarifas[0])\n",
        "  \n",
        "  precios = [[9999]*N for i in [9999]*N]\n",
        "  ruta = [[\"\"]*N for i in [9999]*N]\n",
        "  \n",
        "  for i in range(N-1):\n",
        "    for j in range(i+1,N):\n",
        "      MIN = tarifas[i][j]\n",
        "      ruta[i][j] = i\n",
        "      \n",
        "      for k in range(i,j):\n",
        "        if precios[i][k] + tarifas[k][j] < MIN:\n",
        "          MIN = min(MIN, precios[i][k] + tarifas[k][j])\n",
        "          ruta[i][j] = k\n",
        "      precios[i][j] = MIN\n",
        "  return precios, ruta\n",
        "\n",
        "Precios(TARIFAS)"
      ],
      "execution_count": 23,
      "outputs": [
        {
          "output_type": "execute_result",
          "data": {
            "text/plain": [
              "([[9999, 5, 4, 3, 8, 8, 6],\n",
              "  [9999, 9999, 999, 2, 3, 8, 1],\n",
              "  [9999, 9999, 9999, 1, 6, 4, 7],\n",
              "  [9999, 9999, 9999, 9999, 5, 6, 9],\n",
              "  [9999, 9999, 9999, 9999, 9999, 999, 4],\n",
              "  [9999, 9999, 9999, 9999, 9999, 9999, 3],\n",
              "  [9999, 9999, 9999, 9999, 9999, 9999, 9999]],\n",
              " [['', 0, 0, 0, 1, 2, 1],\n",
              "  ['', '', 1, 1, 1, 3, 1],\n",
              "  ['', '', '', 2, 3, 2, 5],\n",
              "  ['', '', '', '', 3, 3, 3],\n",
              "  ['', '', '', '', '', 4, 4],\n",
              "  ['', '', '', '', '', '', 5],\n",
              "  ['', '', '', '', '', '', '']])"
            ]
          },
          "metadata": {
            "tags": []
          },
          "execution_count": 23
        }
      ]
    }
  ]
}