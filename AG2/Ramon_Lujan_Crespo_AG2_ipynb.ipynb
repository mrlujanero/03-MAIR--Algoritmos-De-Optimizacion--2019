{
  "nbformat": 4,
  "nbformat_minor": 0,
  "metadata": {
    "colab": {
      "name": "Ramon Lujan Crespo-AG2.ipynb.ipynb",
      "version": "0.3.2",
      "provenance": [],
      "collapsed_sections": [],
      "include_colab_link": true
    },
    "kernelspec": {
      "name": "python3",
      "display_name": "Python 3"
    }
  },
  "cells": [
    {
      "cell_type": "markdown",
      "metadata": {
        "id": "view-in-github",
        "colab_type": "text"
      },
      "source": [
        "<a href=\"https://colab.research.google.com/github/mrlujanero/03-MAIR--Algoritmos-De-Optimizacion--2019/blob/master/AG2/Ramon_Lujan_Crespo_AG2_ipynb.ipynb\" target=\"_parent\"><img src=\"https://colab.research.google.com/assets/colab-badge.svg\" alt=\"Open In Colab\"/></a>"
      ]
    },
    {
      "metadata": {
        "id": "CP35AKS5NjQV",
        "colab_type": "text"
      },
      "cell_type": "markdown",
      "source": [
        "# AG2 - Actividad Guiada 2\n",
        "# Ramon Lujan Crespo\n",
        "# URL - https://github.com/mrlujanero/03-MAIR--Algoritmos-De-Optimizacion--2019/tree/master/AG2"
      ]
    },
    {
      "metadata": {
        "id": "sAVgj6yFNvAa",
        "colab_type": "code",
        "colab": {}
      },
      "cell_type": "code",
      "source": [
        "import math\n",
        "import random\n",
        "\n",
        "def distancia(A,B):\n",
        "  if type(A) == int or type(A) == float:\n",
        "    return abs(A-B)\n",
        "  else:\n",
        "    return math.sqrt(sum([(A[i]-B[i])**2 for i in range(len(A))]))"
      ],
      "execution_count": 0,
      "outputs": []
    },
    {
      "metadata": {
        "id": "NRizBx48S5M_",
        "colab_type": "code",
        "colab": {}
      },
      "cell_type": "code",
      "source": [
        "N = 1000\n",
        "\n",
        "LISTA_2D = [(random.randrange(1,N*10),random.randrange(1,N*10)) for _ in range(N)]\n",
        "\n"
      ],
      "execution_count": 0,
      "outputs": []
    },
    {
      "metadata": {
        "id": "ovw_Fp4dTTaG",
        "colab_type": "code",
        "outputId": "480cfb2f-8001-485d-908c-fd64d55b2afc",
        "colab": {
          "base_uri": "https://localhost:8080/",
          "height": 34
        }
      },
      "cell_type": "code",
      "source": [
        "#fuerza bruta\n",
        "def distancia_fuerza_bruta(L):\n",
        "  \n",
        "  mejor_distancia = math.inf\n",
        "  \n",
        "  A,B = (),()\n",
        "  \n",
        "  for i in range(len(L)-1):\n",
        "    for j in range(i+1,len(L)):\n",
        "      distanciaEntrePuntos = distancia(L[i],L[j])\n",
        "      if distanciaEntrePuntos < mejor_distancia:\n",
        "        A,B = L[i],L[j]\n",
        "        mejor_distancia = distanciaEntrePuntos\n",
        "        \n",
        "  return [A,B]\n",
        "\n",
        "p1, p2 = distancia_fuerza_bruta(LISTA_2D)\n",
        "print(\"p1: \"+str(p1)+\" p2: \"+str(p2) + \" distancia: \"+str(distancia(p1,p2)))"
      ],
      "execution_count": 0,
      "outputs": [
        {
          "output_type": "stream",
          "text": [
            "p1: (7335, 4490) p2: (7339, 4491) distancia: 4.123105625617661\n"
          ],
          "name": "stdout"
        }
      ]
    },
    {
      "metadata": {
        "id": "Oufk6FTMUfIC",
        "colab_type": "code",
        "outputId": "c4a199f3-3902-4a83-9196-89991ef035d2",
        "colab": {
          "base_uri": "https://localhost:8080/",
          "height": 34
        }
      },
      "cell_type": "code",
      "source": [
        "def distancia_divide_y_venceras(L):\n",
        "  #Si hay pocos resolver por fuerza bruta\n",
        "  if len(L) < 10:\n",
        "    return distancia_fuerza_bruta(L)\n",
        "  \n",
        "  #Dividir en listas grandes\n",
        "  pivote = sum([L[i][0] for i in range(len(L))])/len(L)\n",
        "  \n",
        "  sorted_list = sorted(L, key=lambda x: x[0])\n",
        "  LISTA_IZQ = sorted_list[:len(sorted_list)//2]\n",
        "  LISTA_DCH = sorted_list[len(sorted_list)//2:]\n",
        "  \n",
        "  puntos_izq = distancia_divide_y_venceras(LISTA_IZQ)\n",
        "  puntos_dch = distancia_divide_y_venceras(LISTA_DCH)\n",
        "  \n",
        "  return distancia_fuerza_bruta(puntos_izq + puntos_dch)\n",
        "  \n",
        "p1, p2 = distancia_divide_y_venceras(LISTA_2D)\n",
        "print(\"p1: \"+str(p1)+\" p2: \"+str(p2) + \" distancia: \"+str(distancia(p1,p2)))"
      ],
      "execution_count": 0,
      "outputs": [
        {
          "output_type": "stream",
          "text": [
            "p1: (2495, 5178) p2: (2499, 5175) distancia: 5.0\n"
          ],
          "name": "stdout"
        }
      ]
    },
    {
      "metadata": {
        "id": "fILgd4Xw5m2s",
        "colab_type": "code",
        "outputId": "199f678a-bfff-41e2-eca7-73249a9c8d37",
        "colab": {
          "base_uri": "https://localhost:8080/",
          "height": 34
        }
      },
      "cell_type": "code",
      "source": [
        "#calcula el punto medio entre el ultimo punto de la lista izq y el primero de la derecha respecto a la coordenada x\n",
        "def calcularPuntoMedio(punto1, punto2):\n",
        "  if type(punto1) == int or type(punto1) == float:\n",
        "    return (punto1 + punto2)/2\n",
        "  return (punto1[0] + punto2[0])/2\n",
        "\n",
        "#selecciona aquellos puntos que se encuentran a una distancia disMinDI del punto medio\n",
        "def seleccionarPuntosCercanosAlPuntoMedio(lista, disMinDI, puntoMedio):\n",
        "  puntos = []\n",
        "  for punto in lista:\n",
        "    if estaDentroDelRango(punto,puntoMedio,disMinDI):\n",
        "      puntos.append(punto)\n",
        "      \n",
        "  return puntos\n",
        "\n",
        "#devuelve si un punto se encuentra a una distancia menor que disMinDI del punto medio\n",
        "def estaDentroDelRango(punto, puntoMedio, disMinDI):\n",
        "  if type(punto) == int or type(punto) == float:\n",
        "    return abs(punto - puntoMedio) < disMinDI[2]\n",
        "  return abs(punto[0] - puntoMedio) < disMinDI[2]\n",
        "\n",
        "#obtiene la menor distancia de la lista izquierda y de la derecha, y selecciona cual es la menor entre las dos\n",
        "def calculoMinEntreIzqDch(minPuntoI, minPuntoD):\n",
        "  return min([minPuntoI,minPuntoD], key = lambda puntos: puntos[2])\n",
        "\n",
        "#se calcula la distancia de los puntos de la izquierda cercanos al centro contra los de la derecha cercanos al centro, y se escoge la menor\n",
        "def seleccionarDistanciaMinimaEnRegion(puntosCercanosI, puntosCercanosD, disMinDI):\n",
        "  \n",
        "  for puntoI in puntosCercanosI:\n",
        "    for puntoD in puntosCercanosD:\n",
        "      dist = distancia(puntoI,puntoD)\n",
        "      if dist < disMinDI[2]:\n",
        "        disMinDI = (puntoI, puntoD, dist)\n",
        "  return disMinDI\n",
        "\n",
        "def distancia_divide_y_venceras2(list):\n",
        "  if len(list) == 1:\n",
        "    return (list[0],list[0],math.inf)\n",
        "  elif len(list) == 2:\n",
        "    return (list[0],list[1],distancia(list[0],list[1]))\n",
        "  else:\n",
        "    #se calcula el pivote como la mitad de la lista\n",
        "    pivote = int(len(list)/2)\n",
        "    #se calcula el punto medio entre las dos listas\n",
        "    puntoMedio = calcularPuntoMedio(list[pivote-1],list[pivote])\n",
        "    \n",
        "    # dividimos la lista po\n",
        "    listaI = list[0:pivote]\n",
        "    listaD = list[pivote:]\n",
        "    \n",
        "    #se calcula la distancia minima de la lista izquierda\n",
        "    disMinI = distancia_divide_y_venceras2(listaI)\n",
        "    #se calcula la distancia minima de la lista derecha\n",
        "    disMinD = distancia_divide_y_venceras2(listaD)    \n",
        "   \n",
        "    #se escoge la distancia menor entre la izquierda y la derecha\n",
        "    disMinDI = calculoMinEntreIzqDch(disMinI,disMinD)\n",
        "    \n",
        "    #se calculan los puntos de la lista derecha y de la izquierda que se encuentran a una distancia menor que disMinDI del centro\n",
        "    puntosCercanosI = seleccionarPuntosCercanosAlPuntoMedio(listaI, disMinDI, puntoMedio)\n",
        "    puntosCercanosD = seleccionarPuntosCercanosAlPuntoMedio(listaD, disMinDI, puntoMedio)\n",
        "    \n",
        "    #por ultimo se calculan las distancias entre los puntos cercanos de la izquierda y de la derecha, escoge la menor entre ellas y la distancia minima calculada anteriormente.\n",
        "    return seleccionarDistanciaMinimaEnRegion(puntosCercanosI, puntosCercanosD, disMinDI)\n",
        "  \n",
        "def distancia_divide_y_venceras_init(lista):\n",
        "  orderedX = sorted(lista,key=ordenarPorCoordenadaX)\n",
        "  return distancia_divide_y_venceras2(orderedX)\n",
        "\n",
        "def ordenarPorCoordenadaX(coord):\n",
        "  if type(coord) == int or type(coord) == float:\n",
        "    return coord\n",
        "  else:\n",
        "    return coord[0]\n",
        "  \n",
        "print(distancia_divide_y_venceras_init(LISTA_2D))"
      ],
      "execution_count": 0,
      "outputs": [
        {
          "output_type": "stream",
          "text": [
            "((7335, 4490), (7339, 4491), 4.123105625617661)\n"
          ],
          "name": "stdout"
        }
      ]
    },
    {
      "metadata": {
        "id": "mmXvyUrZaEJo",
        "colab_type": "code",
        "outputId": "62bd2df9-39ae-491c-b567-2e3686b010da",
        "colab": {
          "base_uri": "https://localhost:8080/",
          "height": 105
        }
      },
      "cell_type": "code",
      "source": [
        "# viaje por el rio\n",
        "TARIFAS = [\n",
        "[0,5,4,3,999,999,999],\n",
        "[999,0,999,2,3,999,11],\n",
        "[999,999, 0,1,999,4,10],\n",
        "[999,999,999, 0,5,6,9],\n",
        "[999,999, 999,999,0,999,4],\n",
        "[999,999, 999,999,999,0,3],\n",
        "[999,999,999,999,999,999,0]\n",
        "]\n",
        "def Precios(tarifas):\n",
        "  N = len(tarifas[0])\n",
        "  \n",
        "  precios = [[9999]*N for i in [9999]*N]\n",
        "  ruta = [[\"\"]*N for i in [9999]*N]\n",
        "  \n",
        "  for i in range(N-1):\n",
        "    for j in range(i+1,N):\n",
        "      MIN = tarifas[i][j]\n",
        "      ruta[i][j] = i\n",
        "      \n",
        "      for k in range(i,j):\n",
        "        if precios[i][k] + tarifas[k][j] < MIN:\n",
        "          MIN = min(MIN, precios[i][k] + tarifas[k][j])\n",
        "          ruta[i][j] = k\n",
        "      precios[i][j] = MIN\n",
        "  return precios, ruta\n",
        "\n",
        "precios, rutas = Precios(TARIFAS)\n",
        "print(precios)\n",
        "print()\n",
        "print(rutas)\n",
        "\n",
        "def calcular_ruta(RUTA, desde, hasta):\n",
        "  if desde == hasta:\n",
        "    return desde\n",
        "  else:\n",
        "    return str(calcular_ruta(RUTA, desde, RUTA[desde][hasta])) + \",\"+ str(RUTA[desde][hasta])\n",
        "\n",
        "calcular_ruta(rutas,0,6)"
      ],
      "execution_count": 0,
      "outputs": [
        {
          "output_type": "stream",
          "text": [
            "[[9999, 5, 4, 3, 8, 8, 11], [9999, 9999, 999, 2, 3, 8, 7], [9999, 9999, 9999, 1, 6, 4, 7], [9999, 9999, 9999, 9999, 5, 6, 9], [9999, 9999, 9999, 9999, 9999, 999, 4], [9999, 9999, 9999, 9999, 9999, 9999, 3], [9999, 9999, 9999, 9999, 9999, 9999, 9999]]\n",
            "\n",
            "[['', 0, 0, 0, 1, 2, 5], ['', '', 1, 1, 1, 3, 4], ['', '', '', 2, 3, 2, 5], ['', '', '', '', 3, 3, 3], ['', '', '', '', '', 4, 4], ['', '', '', '', '', '', 5], ['', '', '', '', '', '', '']]\n"
          ],
          "name": "stdout"
        },
        {
          "output_type": "execute_result",
          "data": {
            "text/plain": [
              "'0,0,2,5'"
            ]
          },
          "metadata": {
            "tags": []
          },
          "execution_count": 32
        }
      ]
    },
    {
      "metadata": {
        "id": "aPKoV5NKJm_b",
        "colab_type": "code",
        "outputId": "a6435a22-4338-4eee-93b0-4cd94dd4bb5f",
        "colab": {
          "base_uri": "https://localhost:8080/",
          "height": 34
        }
      },
      "cell_type": "code",
      "source": [
        "#embarcadero minimo que devuelve el camino a la vez que la distancia recorrida\n",
        "import math\n",
        "TARIFAS = {\n",
        "    0:{\n",
        "        1:5,\n",
        "        2:4,\n",
        "        3:3\n",
        "    },\n",
        "    1:{\n",
        "        3:2,\n",
        "        4:3,\n",
        "        6:11\n",
        "    },\n",
        "    2:{\n",
        "        3:1,\n",
        "        5:4,\n",
        "        6:10\n",
        "    },\n",
        "    3:{\n",
        "        4:5,\n",
        "        5:6,\n",
        "        6:9\n",
        "    },\n",
        "    4:{\n",
        "        6:4\n",
        "    },\n",
        "    5:{\n",
        "        6:3\n",
        "    },\n",
        "    6:{}\n",
        "}\n",
        "\n",
        "def estaConectado(tarifas, embarcaderoObjetivo):\n",
        "  for embarcadero, embarcaderosVecinos in tarifas.items():\n",
        "    for embarcaderoVecino in tarifas.keys():\n",
        "      if embarcaderoObjetivo == embarcaderoVecino:\n",
        "        return True\n",
        "  return False\n",
        "\n",
        "def embarcaderosConectadosConObjetivo(tarifas, embarcaderoObjetivo):\n",
        "  embarcaderosConectados = set()\n",
        "  for embarcadero, embarcaderosVecinos in tarifas.items():\n",
        "    for embarcaderoVecino in embarcaderosVecinos.keys():\n",
        "      if embarcaderoObjetivo == embarcaderoVecino:\n",
        "        embarcaderosConectados.add(embarcadero)\n",
        "  return embarcaderosConectados\n",
        "\n",
        "def caminoMasBarato(tarifas, embarcaderoInicial, embarcaderoObjetivo):\n",
        "  if embarcaderoInicial == embarcaderoObjetivo:\n",
        "    return ([embarcaderoInicial],0)\n",
        "  elif not estaConectado(tarifas, embarcaderoObjetivo):\n",
        "    return math.inf\n",
        "  else:\n",
        "    embarcaderosConectados = embarcaderosConectadosConObjetivo(tarifas,embarcaderoObjetivo)\n",
        "    \n",
        "    minDist = math.inf\n",
        "    caminoFinal = []\n",
        "    \n",
        "    for embarcaderoConectado in embarcaderosConectados:\n",
        "      caminoActual, distancia = caminoMasBarato(tarifas, embarcaderoInicial, embarcaderoConectado)\n",
        "      distanciaActual = distancia + tarifas[embarcaderoConectado][embarcaderoObjetivo]\n",
        "      if distanciaActual < minDist: \n",
        "        minDist = distanciaActual\n",
        "        caminoFinal = caminoActual + [embarcaderoConectado]\n",
        "    \n",
        "    return (caminoFinal, minDist)\n",
        "    \n",
        "caminoMasBarato(TARIFAS, 0,6)\n",
        "    \n",
        "  "
      ],
      "execution_count": 0,
      "outputs": [
        {
          "output_type": "execute_result",
          "data": {
            "text/plain": [
              "([0, 0, 2, 5], 11)"
            ]
          },
          "metadata": {
            "tags": []
          },
          "execution_count": 127
        }
      ]
    }
  ]
}