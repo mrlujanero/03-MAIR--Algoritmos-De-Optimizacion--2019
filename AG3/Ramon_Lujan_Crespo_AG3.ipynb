{
  "nbformat": 4,
  "nbformat_minor": 0,
  "metadata": {
    "colab": {
      "name": "Ramon Lujan Crespo-AG3.ipynb",
      "version": "0.3.2",
      "provenance": [],
      "collapsed_sections": [],
      "include_colab_link": true
    },
    "kernelspec": {
      "name": "python3",
      "display_name": "Python 3"
    }
  },
  "cells": [
    {
      "cell_type": "markdown",
      "metadata": {
        "id": "view-in-github",
        "colab_type": "text"
      },
      "source": [
        "<a href=\"https://colab.research.google.com/github/mrlujanero/03-MAIR--Algoritmos-De-Optimizacion--2019/blob/master/AG3/Ramon_Lujan_Crespo_AG3.ipynb\" target=\"_parent\"><img src=\"https://colab.research.google.com/assets/colab-badge.svg\" alt=\"Open In Colab\"/></a>"
      ]
    },
    {
      "metadata": {
        "id": "ZnjXWr2bkPg9",
        "colab_type": "text"
      },
      "cell_type": "markdown",
      "source": [
        "# AG3 - Actividad Guiada 3\n",
        "# Ramon Lujan Crespo\n",
        "# URL - https://github.com/mrlujanero/03-MAIR--Algoritmos-De-Optimizacion--2019/tree/master/AG3"
      ]
    },
    {
      "metadata": {
        "id": "tKTFrc-9kXOY",
        "colab_type": "code",
        "outputId": "806f36b1-5bde-4060-f5ef-acd5536fea7d",
        "colab": {
          "base_uri": "https://localhost:8080/",
          "height": 34
        }
      },
      "cell_type": "code",
      "source": [
        "import urllib.request\n",
        "\n",
        "file = \"swiss42.tsp\"\n",
        "\n",
        "urllib.request.urlretrieve(\"http://elib.zib.de./pub/mp-testdata/tsp/tsplib/tsp/swiss42.tsp\",file)\n",
        "\n"
      ],
      "execution_count": 1,
      "outputs": [
        {
          "output_type": "execute_result",
          "data": {
            "text/plain": [
              "('swiss42.tsp', <http.client.HTTPMessage at 0x7fe474313400>)"
            ]
          },
          "metadata": {
            "tags": []
          },
          "execution_count": 1
        }
      ]
    },
    {
      "metadata": {
        "id": "u8E1AiyTkzcE",
        "colab_type": "code",
        "outputId": "2f1af537-0c44-4998-d192-d972d2ab1729",
        "colab": {
          "base_uri": "https://localhost:8080/",
          "height": 323
        }
      },
      "cell_type": "code",
      "source": [
        "!pip install tsplib95"
      ],
      "execution_count": 3,
      "outputs": [
        {
          "output_type": "stream",
          "text": [
            "Collecting tsplib95\n",
            "  Downloading https://files.pythonhosted.org/packages/d1/4f/6a1cb104ce9b400eed7690641230fab1515bd475f2dd86d4a3a73f677e3b/tsplib95-0.3.2-py2.py3-none-any.whl\n",
            "Requirement already satisfied: Click>=6.0 in /usr/local/lib/python3.6/dist-packages (from tsplib95) (7.0)\n",
            "Collecting networkx==2.1 (from tsplib95)\n",
            "\u001b[?25l  Downloading https://files.pythonhosted.org/packages/11/42/f951cc6838a4dff6ce57211c4d7f8444809ccbe2134179950301e5c4c83c/networkx-2.1.zip (1.6MB)\n",
            "\u001b[K    100% |████████████████████████████████| 1.6MB 14.0MB/s \n",
            "\u001b[?25hRequirement already satisfied: decorator>=4.1.0 in /usr/local/lib/python3.6/dist-packages (from networkx==2.1->tsplib95) (4.3.2)\n",
            "Building wheels for collected packages: networkx\n",
            "  Building wheel for networkx (setup.py) ... \u001b[?25ldone\n",
            "\u001b[?25h  Stored in directory: /root/.cache/pip/wheels/44/c0/34/6f98693a554301bdb405f8d65d95bbcd3e50180cbfdd98a94e\n",
            "Successfully built networkx\n",
            "\u001b[31mimgaug 0.2.8 has requirement numpy>=1.15.0, but you'll have numpy 1.14.6 which is incompatible.\u001b[0m\n",
            "\u001b[31malbumentations 0.1.12 has requirement imgaug<0.2.7,>=0.2.5, but you'll have imgaug 0.2.8 which is incompatible.\u001b[0m\n",
            "Installing collected packages: networkx, tsplib95\n",
            "  Found existing installation: networkx 2.2\n",
            "    Uninstalling networkx-2.2:\n",
            "      Successfully uninstalled networkx-2.2\n",
            "Successfully installed networkx-2.1 tsplib95-0.3.2\n"
          ],
          "name": "stdout"
        }
      ]
    },
    {
      "metadata": {
        "id": "Wm0ayrPalOEm",
        "colab_type": "code",
        "colab": {}
      },
      "cell_type": "code",
      "source": [
        "import tsplib95\n",
        "import random\n",
        "from math import e\n",
        "\n",
        "problem = tsplib95.load_problem(file)\n",
        "\n",
        "#Nodos\n",
        "Nodos = list(problem.get_nodes())\n",
        "\n",
        "#Aristas\n",
        "Aristas = list(problem.get_edges())\n",
        "\n",
        "def factorial(n):\n",
        "  if n == 0:\n",
        "    return 1\n",
        "  else:\n",
        "    return n * factorial(n-1)\n",
        "  \n",
        "def crear_solucion(Nodos):\n",
        "  solucion = [0]\n",
        "  for i in range(len(Nodos)-1):\n",
        "    solucion = solucion + [random.choice(list(set(Nodos)-set({0}) - set(solucion)))]\n",
        "  return solucion\n",
        "\n",
        "def distancia(a,b,problem):\n",
        "  return problem.wfunc(a,b)\n",
        "\n",
        "def distancia_total(solucion, problem):\n",
        "  distancia_total = 0\n",
        "  for i in range(len(solucion)-1):\n",
        "    distancia_total += distancia(solucion[i],solucion[i+1], problem)\n",
        "  return distancia_total +distancia(solucion[-1], solucion[0], problem)"
      ],
      "execution_count": 0,
      "outputs": []
    },
    {
      "metadata": {
        "id": "7x3MQUMHn6Ca",
        "colab_type": "code",
        "outputId": "22803030-eba2-4f6f-b7ad-36be2810c2ca",
        "colab": {
          "base_uri": "https://localhost:8080/",
          "height": 765
        }
      },
      "cell_type": "code",
      "source": [
        "def busqueda_aleatoria(problem, N):\n",
        "  Nodos = list(problem.get_nodes())\n",
        "  \n",
        "  mejor_solucion = []\n",
        "  mejor_distancia = 10e100\n",
        "  \n",
        "  for i in range(N):\n",
        "    solucion = crear_solucion(Nodos)\n",
        "    distancia_solucion = distancia_total(solucion, problem)\n",
        "    if distancia_solucion < mejor_distancia:\n",
        "      mejor_solucion = solucion\n",
        "      mejor_distancia = distancia_solucion\n",
        "  print(\"La mejor solucion encontrada es \", end=\"\")\n",
        "  print(solucion)\n",
        "  print(\"con una distancia total de \",end=\"\")\n",
        "  print(mejor_distancia)\n",
        "  return mejor_solucion\n",
        "\n",
        "busqueda_aleatoria(problem, 100)"
      ],
      "execution_count": 6,
      "outputs": [
        {
          "output_type": "stream",
          "text": [
            "La mejor solucion encontrada es [0, 3, 22, 38, 24, 18, 12, 8, 5, 32, 36, 14, 37, 34, 26, 10, 40, 33, 39, 25, 6, 20, 28, 21, 35, 13, 9, 7, 15, 23, 30, 17, 2, 1, 41, 19, 31, 4, 11, 29, 16, 27]\n",
            "con una distancia total de 4254\n"
          ],
          "name": "stdout"
        },
        {
          "output_type": "execute_result",
          "data": {
            "text/plain": [
              "[0,\n",
              " 1,\n",
              " 14,\n",
              " 7,\n",
              " 4,\n",
              " 32,\n",
              " 2,\n",
              " 20,\n",
              " 37,\n",
              " 10,\n",
              " 25,\n",
              " 38,\n",
              " 9,\n",
              " 33,\n",
              " 24,\n",
              " 34,\n",
              " 30,\n",
              " 28,\n",
              " 22,\n",
              " 27,\n",
              " 26,\n",
              " 29,\n",
              " 6,\n",
              " 8,\n",
              " 19,\n",
              " 5,\n",
              " 39,\n",
              " 35,\n",
              " 16,\n",
              " 13,\n",
              " 40,\n",
              " 21,\n",
              " 15,\n",
              " 31,\n",
              " 18,\n",
              " 23,\n",
              " 41,\n",
              " 17,\n",
              " 36,\n",
              " 3,\n",
              " 11,\n",
              " 12]"
            ]
          },
          "metadata": {
            "tags": []
          },
          "execution_count": 6
        }
      ]
    },
    {
      "metadata": {
        "id": "ijH5LkP2owkn",
        "colab_type": "code",
        "colab": {}
      },
      "cell_type": "code",
      "source": [
        "def genera_vecina(solucion):\n",
        "  mejor_solucion = []\n",
        "  mejor_distancia = 10e100\n",
        "  for i in range(1,len(solucion) - 1):\n",
        "    for j in range(i+1, len(solucion)):\n",
        "      vecina = solucion[:i] + [solucion[j]] + solucion[i+1:j] + [solucion[i]] + solucion[j+1:]\n",
        "      distancia_vecina = distancia_total(vecina, problem)\n",
        "      if distancia_vecina <= mejor_distancia:\n",
        "        mejor_distancia = distancia_vecina\n",
        "        mejor_solucion = vecina\n",
        "  return mejor_solucion\n",
        "\n",
        "#la mejor distancia inicial es la de la solucion que se esta pasando, por lo que se busca que siempre mejore la solucion actual\n",
        "def genera_vecina2(solucion):\n",
        "  mejor_solucion = solucion\n",
        "  mejor_distancia = distancia_total(solucion, problem)\n",
        "  for i in range(1,len(solucion) - 1):\n",
        "    for j in range(i+1, len(solucion)):\n",
        "      vecina = solucion[:i] + [solucion[j]] + solucion[i+1:j] + [solucion[i]] + solucion[j+1:]\n",
        "      distancia_vecina = distancia_total(vecina, problem)\n",
        "      if distancia_vecina <= mejor_distancia:\n",
        "        mejor_distancia = distancia_vecina\n",
        "        mejor_solucion = vecina\n",
        "  return mejor_solucion\n",
        "\n",
        "#mediante este metodo se generan todas los vecinos posibles mediante permutacion, y se seleccionan como candidatos aquellos vecinos que mejoren la solución puntual, para luego elegir aleatoriamente uno de ellos\n",
        "def genera_vecinos_elige_aleatorio(solucion):\n",
        "  candidatos = [solucion]\n",
        "  distancia_actual = distancia_total(solucion, problem)\n",
        "  for i in range(1,len(solucion) - 1):\n",
        "    for j in range(i+1, len(solucion)):\n",
        "      vecina = solucion[:i] + [solucion[j]] + solucion[i+1:j] + [solucion[i]] + solucion[j+1:]\n",
        "      distancia_vecina = distancia_total(vecina, problem)\n",
        "      if distancia_vecina <= distancia_actual:\n",
        "        candidatos.append(vecina)\n",
        "  return random.choice(candidatos)\n",
        "\n",
        "#mediante este metodo se generan todos losv vecinos posibles de invertir una sublista aleatoria de la solucion, y se escoge la mejor\n",
        "def genera_vecina_invertir_sublista(solucion):\n",
        "  mejor_solucion = solucion\n",
        "  mejor_distancia = distancia_total(solucion,problem)\n",
        "  for _ in range(len(solucion)):\n",
        "    firstIndex = random.randint(1, len(solucion)-3)\n",
        "    secondIndex = random.randint(firstIndex+1, len(solucion)-1)\n",
        "    vecina = solucion[:firstIndex] + solucion[secondIndex-1:firstIndex-1:-1] + solucion[secondIndex:]\n",
        "    distancia_vecina = distancia_total(vecina, problem)\n",
        "    if distancia_vecina <= mejor_distancia:\n",
        "      mejor_distancia = distancia_vecina\n",
        "      mejor_solucion = vecina\n",
        "  return mejor_solucion"
      ],
      "execution_count": 0,
      "outputs": []
    },
    {
      "metadata": {
        "id": "1Rj3gnGdpal5",
        "colab_type": "code",
        "outputId": "83a6587c-e5f9-4971-bab6-db5b4873ea88",
        "colab": {
          "base_uri": "https://localhost:8080/",
          "height": 51
        }
      },
      "cell_type": "code",
      "source": [
        "def busqueda_local(problem, N):\n",
        "  \n",
        "  mejor_solucion = []\n",
        "  mejor_distancia = 10e100\n",
        "  \n",
        "  solucion_referencia = crear_solucion(Nodos)\n",
        "  \n",
        "  for i in range(N):\n",
        "    vecina = genera_vecina_invertir_sublista(solucion_referencia)\n",
        "    distancia_vecina = distancia_total(vecina,problem)\n",
        "    if distancia_vecina <= mejor_distancia:\n",
        "      mejor_solucion = vecina\n",
        "      mejor_distancia = distancia_vecina\n",
        "      \n",
        "    solucion_referencia = vecina\n",
        "    \n",
        "  print(\"La mejor solucion encontrada es \", end=\"\")\n",
        "  print(mejor_solucion)\n",
        "  print(\"Con una distancia total de \", end=\"\")\n",
        "  print(mejor_distancia)\n",
        "  return mejor_solucion\n",
        "\n",
        "sol = busqueda_local(problem,100)"
      ],
      "execution_count": 73,
      "outputs": [
        {
          "output_type": "stream",
          "text": [
            "La mejor solucion encontrada es [0, 1, 3, 6, 26, 5, 19, 13, 18, 12, 11, 25, 10, 4, 2, 27, 28, 29, 30, 32, 31, 7, 14, 16, 15, 37, 17, 36, 35, 20, 33, 34, 38, 22, 39, 9, 8, 41, 23, 21, 24, 40]\n",
            "Con una distancia total de 1598\n"
          ],
          "name": "stdout"
        }
      ]
    },
    {
      "metadata": {
        "id": "KX-aBwMHq-ox",
        "colab_type": "code",
        "colab": {}
      },
      "cell_type": "code",
      "source": [
        "def genera_vecina_aleatorio(solucion):\n",
        "  i = random.choice(range(1, len(solucion)))\n",
        "  j = random.choice(list(set(range(1,len(solucion)))-{i}))\n",
        "  vecina = solucion[:i] + [solucion[j]] + solucion[i+1:j] + [solucion[i]] + solucion[j+1:]\n",
        "  return vecina\n",
        "\n",
        "def probabilidad(T,d):\n",
        "  r = random.random()\n",
        "  return r <= (e**(-1*d)/(T*1.0))\n",
        "\n",
        "def bajar_temperatura(T):\n",
        "  return T-1"
      ],
      "execution_count": 0,
      "outputs": []
    },
    {
      "metadata": {
        "id": "paKu_0zdrx3N",
        "colab_type": "code",
        "outputId": "58171ee4-4691-450e-f47b-1598b6db67ae",
        "colab": {
          "base_uri": "https://localhost:8080/",
          "height": 71
        }
      },
      "cell_type": "code",
      "source": [
        "def recocido_simulado(problem, TEMPERATURA):\n",
        "  solucion_referencia = crear_solucion(Nodos)\n",
        "  distancia_referencia = distancia_total(solucion_referencia, problem)\n",
        "  \n",
        "  mejor_solucion = []\n",
        "  mejor_distancia = 10e100\n",
        "  \n",
        "  while TEMPERATURA > 0:\n",
        "    vecina = genera_vecina_aleatorio(solucion_referencia)\n",
        "    \n",
        "    distancia_vecina = distancia_total(vecina,problem)\n",
        "    \n",
        "    if distancia_vecina < mejor_distancia:\n",
        "      mejor_solucion = vecina\n",
        "      mejor_distancia = distancia_vecina\n",
        "      \n",
        "    if distancia_vecina < distancia_referencia or probabilidad(TEMPERATURA, abs(distancia_referencia - distancia_vecina)):\n",
        "      solucion_referencia = vecina\n",
        "      distancia_referencia = distancia_vecina\n",
        "    \n",
        "    TEMPERATURA = bajar_temperatura(TEMPERATURA)\n",
        "    \n",
        "  print(\"La mejor solucion encontrada es \",end=\"\")\n",
        "  print(mejor_solucion)\n",
        "  print(\"con una distancia total de \",end=\"\")\n",
        "  print(mejor_distancia)\n",
        "  return mejor_solucion\n",
        "\n",
        "sol = recocido_simulado(problem,100)"
      ],
      "execution_count": 0,
      "outputs": [
        {
          "output_type": "stream",
          "text": [
            "La mejor solucion encontrada es [0, 4, 2, 41, 23, 25, 29, 22, 33, 35, 28, 26, 1, 5, 17, 32, 12, 9, 13, 39, 24, 21, 10, 16, 37, 19, 8, 18, 34, 11, 27, 20, 6, 3, 30, 40, 7, 15, 31, 14, 36, 38]\n",
            "con una distancia total de 3983\n"
          ],
          "name": "stdout"
        }
      ]
    },
    {
      "metadata": {
        "id": "eipS716XtEEr",
        "colab_type": "code",
        "colab": {}
      },
      "cell_type": "code",
      "source": [
        "def hormigas(problem, N):\n",
        "  \n",
        "  Nodos = list(problem.get_nodes())\n",
        "  Aristas = list(problem.get_edges())\n",
        "  \n",
        "  T = [[1 for _ in range(len(Nodos))] for _ in range(len(Nodos))]\n",
        "  \n",
        "  Hormiga = [[0] for _ in range(N)]\n",
        "  \n",
        "  for h in range(N):\n",
        "    for i in range(len(Nodos) - 1):\n",
        "      Nuevo_Nodo = Add_Nodo(problem, Hormiga[h], T)\n",
        "      Hormiga[h].append(Nuevo_Nodo)\n",
        "      \n",
        "    T = Incrementa_Feromona(problem, T, Hormiga[h])\n",
        "    \n",
        "    T = Evaporar_Feromonas(T)\n",
        "  mejor_solucion = []\n",
        "  mejor_distancia = 10e100\n",
        "  for h in range(N):\n",
        "    distancia_actual = distancia_total(Hormiga[h], problem)\n",
        "    if distancia_actual < mejor_distancia:\n",
        "      mejor_solucion = Hormiga[h]\n",
        "      mejor_distancia = distancia_actual\n",
        "    \n",
        "def Add_Nodo(problem, H, T):\n",
        "  Nodos = list(problem.get_nodes())\n",
        "  return random.choice(list(set(range(1,len(Nodos))) - set(H)))\n",
        "\n",
        "def Incrementa_Feromona(problem, T, H):\n",
        "  for i in range(len(H) - 1):\n",
        "    T[H[i]][H[i+1]] += 1000/distancia_total(H, problem)\n",
        "  return T\n",
        "    \n",
        "def Evaporar_Feromonas(T):\n",
        "  T = [[max(T[i][j] -0.3, 1) for i in range(len(Nodos))] for j in range(len(Nodos))]\n",
        "  return T\n",
        "  \n",
        "sol = hormigas(problem,100)"
      ],
      "execution_count": 0,
      "outputs": []
    }
  ]
}