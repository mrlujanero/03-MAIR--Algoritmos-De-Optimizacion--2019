{
  "nbformat": 4,
  "nbformat_minor": 0,
  "metadata": {
    "colab": {
      "name": "Seminario - Algoritmos.ipynb",
      "version": "0.3.2",
      "provenance": [],
      "collapsed_sections": [],
      "include_colab_link": true
    },
    "kernelspec": {
      "name": "python3",
      "display_name": "Python 3"
    }
  },
  "cells": [
    {
      "cell_type": "markdown",
      "metadata": {
        "id": "view-in-github",
        "colab_type": "text"
      },
      "source": [
        "<a href=\"https://colab.research.google.com/github/mrlujanero/03-MAIR--Algoritmos-De-Optimizacion--2019/blob/master/SEMINARIOS/Seminario_Algoritmos.ipynb\" target=\"_parent\"><img src=\"https://colab.research.google.com/assets/colab-badge.svg\" alt=\"Open In Colab\"/></a>"
      ]
    },
    {
      "metadata": {
        "id": "hVbXYX-RfPWh",
        "colab_type": "text"
      },
      "cell_type": "markdown",
      "source": [
        "# Algoritmos de optimización - Seminario<br>\n",
        "Ramón Luján Crespo:   <br>\n",
        "Url: https://github.com/mrlujanero/03-MAIR--Algoritmos-De-Optimizacion--2019/tree/master/SEMINARIOS<br>\n",
        "Problema:\n",
        "> 1. Elección de grupos de población homogéneos <br>\n",
        ">2. Organizar los horarios de partidos de La Liga<br>\n",
        ">3. Combinar cifras y operaciones\n",
        "\n",
        "Descripción del problema: Organizar los horarios de partidos de La Liga\n",
        "\n",
        "(*) La respuesta es obligatoria\n",
        "\n",
        "\n",
        "\n",
        "\n",
        "\n",
        "                                        "
      ]
    },
    {
      "metadata": {
        "id": "AiskKkzZfy4e",
        "colab_type": "code",
        "colab": {}
      },
      "cell_type": "code",
      "source": [
        ""
      ],
      "execution_count": 0,
      "outputs": []
    },
    {
      "metadata": {
        "id": "3_-exlrTgLd-",
        "colab_type": "text"
      },
      "cell_type": "markdown",
      "source": [
        "(*)¿Cuantas posibilidades hay sin tener en cuenta las restricciones?<br>\n",
        "\n",
        "\n",
        "\n"
      ]
    },
    {
      "metadata": {
        "id": "WfCUqJyKhPcw",
        "colab_type": "text"
      },
      "cell_type": "markdown",
      "source": [
        "Respuesta: Para este problema la restricción es que se repitan o no los horarios de los partidos. Si se tiene en cuenta que se puedan repetir horarios de partidos, hay un total de:\n",
        "solucionesPosibles = horariosPosibles ^ numeroPartidos = 10^10 = 10000000000\n",
        "En caso de que no se pudieran repetir horarios, entonces sería un problema de permutaciones, por lo que habría un total de numeroPartidos! = 10! = 3628800"
      ]
    },
    {
      "metadata": {
        "id": "iq6Fe32MgpDX",
        "colab_type": "code",
        "colab": {}
      },
      "cell_type": "code",
      "source": [
        ""
      ],
      "execution_count": 0,
      "outputs": []
    },
    {
      "metadata": {
        "id": "dzynfVJahHoY",
        "colab_type": "text"
      },
      "cell_type": "markdown",
      "source": [
        "Modelo para el espacio de soluciones<br>\n",
        "(*) ¿Cual es la estructura de datos que mejor se adapta al problema? Argumentalo.(Es posible que hayas elegido una al principio y veas la necesidad de cambiar, arguentalo)\n"
      ]
    },
    {
      "metadata": {
        "id": "xFIJrOwKi2Ti",
        "colab_type": "text"
      },
      "cell_type": "markdown",
      "source": [
        "Respuesta: El espacio de soluciones que se ha elegido consiste en un array donde cada posición del mismo representa un partido, y cada elemento en la posición i contiene el horario en el que se va a jugar dicho partido. Se ha considerado que esta es la mejor manera de representar la solución, ya que de este modo se tiene un único array de una sola dimensión. Otra opción sería una estructura donde cada posición representase un horario, y cada elemento fuera una lista de los partidos que se celebran  ese día, pero se ha considerado que era más complejo trabajar con ella."
      ]
    },
    {
      "metadata": {
        "id": "38c-7-ejhJmA",
        "colab_type": "code",
        "colab": {}
      },
      "cell_type": "code",
      "source": [
        ""
      ],
      "execution_count": 0,
      "outputs": []
    },
    {
      "metadata": {
        "id": "7Z9U2W7bi-XS",
        "colab_type": "text"
      },
      "cell_type": "markdown",
      "source": [
        "Según el modelo para el espacio de soluciones<br>\n",
        "(*)¿Cual es la función objetivo?\n",
        "\n",
        "(*)¿Es un problema de maximización o minimización?"
      ]
    },
    {
      "metadata": {
        "id": "hBalWLM7j1_d",
        "colab_type": "text"
      },
      "cell_type": "markdown",
      "source": [
        "Respuesta: \n",
        "La función objetivo consiste en el cálculo de la audiencia según la tabla de estadísticas de audiencia que se genera en cada partido, junto con el día que se celebra el partido. Además, se debe tener en cuenta si se celebran varios partidos en el mismo momento. \n",
        "\n",
        "Se trata de un problema de maximización, ya que lo que se persigue es conseguir la aquella distribución de partidos que mejor audiencia tenga."
      ]
    },
    {
      "metadata": {
        "id": "pDA-rg3Gj5Lz",
        "colab_type": "code",
        "colab": {}
      },
      "cell_type": "code",
      "source": [
        "def calcularAudienciaSiEsSolucion(audiencia, horarios):\n",
        "    for dia in horarios.keys():\n",
        "        partidosPorHorario = horarios[dia][\"partidosPorHorario\"]\n",
        "        if len(partidosPorHorario) > 1:\n",
        "            maxPuntos = horarios[dia][\"puntosPorHorario\"]\n",
        "            maxAudiencia = horarios[dia][\"maxAudienciaHorario\"]\n",
        "            for (equipos, puntos) in partidosPorHorario:\n",
        "                audiencia += (puntos / maxPuntos) * maxAudiencia\n",
        "            audiencia = audiencia * estadisticasHorarios[int(dia)]\n",
        "        elif len(partidosPorHorario) == 1:\n",
        "            equipoA = partidosPorHorario[0][0][0]\n",
        "            equipoB = partidosPorHorario[0][0][1]\n",
        "            audiencia += tablaAudiencias[equipoA][equipoB] * estadisticasHorarios[int(dia)]\n",
        "    return audiencia"
      ],
      "execution_count": 0,
      "outputs": []
    },
    {
      "metadata": {
        "id": "rlnTYgY1j6I2",
        "colab_type": "text"
      },
      "cell_type": "markdown",
      "source": [
        "Diseña un algoritmo para resolver el problema por fuerza bruta"
      ]
    },
    {
      "metadata": {
        "id": "70rDgxYXkC8r",
        "colab_type": "text"
      },
      "cell_type": "markdown",
      "source": [
        "Respuesta"
      ]
    },
    {
      "metadata": {
        "id": "CJb5sQ0qkENy",
        "colab_type": "code",
        "colab": {}
      },
      "cell_type": "code",
      "source": [
        "#descargar pdf nuevo\n",
        "import random\n",
        "\n",
        "equipoCategoria = [\"A\",\"A\",\"A\",\"B\",\"B\",\"B\",\"B\",\"C\",\"C\",\"C\",\"A\",\"A\",\"A\",\"B\",\"B\",\"B\",\"B\",\"C\",\"C\",\"C\"]\n",
        "\n",
        "\n",
        "puntosCategoria = {\n",
        "    \"A\": 4,\n",
        "    \"B\": 2,\n",
        "    \"C\": 1\n",
        "}\n",
        "\n",
        "tablaAudiencias = {\n",
        "    \"A\": {\"A\": 2, \"B\": 1.3, \"C\": 1},\n",
        "    \"B\": {\"A\": 1.3, \"B\": 0.9, \"C\": 0.75},\n",
        "    \"C\": {\"A\": 1, \"B\": 0.75, \"C\": 0.47}\n",
        "}\n",
        "\n",
        "estadisticasHorarios = [0.4,0.55,0.7,0.8,1,0.45,0.75,0.85,1,0.4]\n",
        "\n",
        "def generarPartidosAleatorios():\n",
        "    partidos = []\n",
        "    equipos = list(equipoCategoria)\n",
        "    random.shuffle(equipos)\n",
        "    numPartidos = int(len(equipos)/2)\n",
        "    for i in range(numPartidos):\n",
        "        equipoA = equipos[i]\n",
        "        equipoB = equipos[i+numPartidos]\n",
        "        puntos = puntosCategoria[equipoA] + puntosCategoria[equipoB]\n",
        "        partidos.append(((equipos[i],equipos[i+numPartidos]),puntos))\n",
        "    print(partidos)\n",
        "    return partidos\n",
        "\n",
        "\n",
        "def organizarPartidosFuerzaBruta():\n",
        "    partidos = generarPartidosAleatorios()\n",
        "    mejorSolucion = []\n",
        "    mejorAudiencia = 0\n",
        "    for combinacion in range(0, len(estadisticasHorarios)**len(equipoCategoria)):\n",
        "        horario = list('{0:010}'.format(combinacion))\n",
        "        audiencia = calcularAudiencias(partidos, horario)\n",
        "        if audiencia > mejorAudiencia:\n",
        "            mejorAudiencia = audiencia\n",
        "            mejorSolucion = horario\n",
        "    return mejorSolucion, mejorAudiencia\n",
        "\n",
        "def esSolucion(horario):\n",
        "    hayEnViernes = False\n",
        "    hayEnLunes = False\n",
        "    for i in range(len(horario)):\n",
        "        if horario[i] == '0':\n",
        "            hayEnViernes = True\n",
        "        elif horario[i] == '9':\n",
        "            hayEnLunes = True\n",
        "    return hayEnViernes and hayEnLunes\n",
        "\n",
        "def calcularAudiencias(partidos, horario):\n",
        "    audiencia = 0\n",
        "    horarios = {}\n",
        "    #si hay al menos un partido en viernes y al menos uno en lunes\n",
        "    if esSolucion(horario):\n",
        "        organizarPartidosPorDiccionarioHorario(horario, horarios, partidos)\n",
        "        audiencia = calcularAudienciaSiEsSolucion(audiencia, horarios)\n",
        "    return audiencia\n",
        "\n",
        "#calcula las audiencias para la combinacion candidata\n",
        "def calcularAudienciaSiEsSolucion(audiencia, horarios):\n",
        "    for dia in horarios.keys():\n",
        "        partidosPorHorario = horarios[dia][\"partidosPorHorario\"]\n",
        "        #si mas de un partido cae en el mismo horario\n",
        "        if len(partidosPorHorario) > 1:\n",
        "            audiencia = calcularAudienciaPartidosCoincidentes(audiencia, dia, horarios, partidosPorHorario)\n",
        "        #si solo hay un partido en este horario\n",
        "        elif len(partidosPorHorario) == 1:\n",
        "            audiencia = calcularAudienciaPartidoUnico(audiencia, dia, partidosPorHorario)\n",
        "    return audiencia\n",
        "\n",
        "\n",
        "def calcularAudienciaPartidoUnico(audiencia, dia, partidosPorHorario):\n",
        "    equipoA = partidosPorHorario[0][0][0]\n",
        "    equipoB = partidosPorHorario[0][0][1]\n",
        "    audiencia += tablaAudiencias[equipoA][equipoB] * estadisticasHorarios[int(dia)]\n",
        "    return audiencia\n",
        "\n",
        "\n",
        "def calcularAudienciaPartidosCoincidentes(audiencia, dia, horarios, partidosPorHorario):\n",
        "    maxPuntos = horarios[dia][\"puntosPorHorario\"]\n",
        "    maxAudiencia = horarios[dia][\"maxAudienciaHorario\"]\n",
        "    for (equipos, puntos) in partidosPorHorario:\n",
        "        audiencia += (puntos / maxPuntos) * maxAudiencia\n",
        "    audiencia = audiencia * estadisticasHorarios[int(dia)]\n",
        "    return audiencia\n",
        "\n",
        "\n",
        "#crea un diccionario donde cada clave es un horario, la cual contiene una lista de partidos, la audiencia maxima para cada hora y los puntos de cada partid\n",
        "#para ser usados en caso de que coincidan varios partidos en el mismo dia\n",
        "def organizarPartidosPorDiccionarioHorario(horario, horarios, partidos):\n",
        "    for i in range(len(partidos)):\n",
        "        dia = horario[i]\n",
        "        if dia not in horarios:\n",
        "            anadirDiaADiccionarioHorario(dia, horarios)\n",
        "        anadirPartidoADia(dia, horarios, i, partidos)\n",
        "\n",
        "\n",
        "def anadirPartidoADia(dia, horarios, i, partidos):\n",
        "    horarios[dia][\"puntosPorHorario\"] += partidos[i][1]\n",
        "    horarios[dia][\"partidosPorHorario\"].append(partidos[i])\n",
        "    if horarios[dia][\"maxAudienciaHorario\"] < tablaAudiencias[partidos[i][0][0]][partidos[i][0][1]]:\n",
        "        horarios[dia][\"maxAudienciaHorario\"] = tablaAudiencias[partidos[i][0][0]][partidos[i][0][1]]\n",
        "\n",
        "\n",
        "def anadirDiaADiccionarioHorario(dia, horarios):\n",
        "    horarios[dia] = {}\n",
        "    horarios[dia][\"puntosPorHorario\"] = 0\n",
        "    horarios[dia][\"partidosPorHorario\"] = []\n",
        "    horarios[dia][\"maxAudienciaHorario\"] = 0\n",
        "\n",
        "\n",
        "#organizarPartidosFuerzaBruta()"
      ],
      "execution_count": 0,
      "outputs": []
    },
    {
      "metadata": {
        "id": "tgrnsC2nkFa8",
        "colab_type": "text"
      },
      "cell_type": "markdown",
      "source": [
        "Calcula la complejidad del algoritmo por fuerza bruta"
      ]
    },
    {
      "metadata": {
        "id": "9eUd3xwckP68",
        "colab_type": "text"
      },
      "cell_type": "markdown",
      "source": [
        "Respuesta\n",
        "(horariosPosibles ^ numPartidos) * horariosPosibles\n",
        "\n",
        "(horariosPosibles ^ numPartidos) -> puede verse en el bucle principal que controla el algoritmo: for combinacion in range(0, len(estadisticasHorarios)**len(equipoCategoria)). Este bucle genera todas las soluciones posibles desde [0,0,...,0] hasta [9,9,...,9].\n",
        "\n",
        "El siguiente bucle del que se extrae horarios se puede encontrar al calcular las audiencias. Se recorren los dias posibles, y dentro de cada dia sus partidos. En total se sabe que existen tantos partidos como horarios disponibles, por lo que ya sea el caso de que coincidan todos los partidos en el mismo dia, o todos los partidos repartidos, al final el número de vueltas será el mismo, el número de horarios posible o el número de partidos posibles."
      ]
    },
    {
      "metadata": {
        "id": "rvZWwL-ckRST",
        "colab_type": "code",
        "colab": {}
      },
      "cell_type": "code",
      "source": [
        ""
      ],
      "execution_count": 0,
      "outputs": []
    },
    {
      "metadata": {
        "id": "txbrmLmskReM",
        "colab_type": "text"
      },
      "cell_type": "markdown",
      "source": [
        "(*)Diseña un algoritmo que mejore la complejidad del algortimo por fuerza bruta. Argumenta porque crees que mejora el algoritmo por fuerza bruta"
      ]
    },
    {
      "metadata": {
        "id": "hLrVwt5QkZPD",
        "colab_type": "text"
      },
      "cell_type": "markdown",
      "source": [
        "Respuesta: Para este caso se plantea una aproximación voraz. Para ello, se ordenan los partidos según su audiencia, y se ordenan sus horarios según su multiplicador de la audiencia, para seguir la idea de que el partido que mejor audiencia tenga, debe tener el mejor multiplicador.\n",
        "Mejora el algoritmo de fuerza bruta, ya que en vez de probar todas las soluciones para obtener sus audiencias, desde el principio se ha organizado una solución óptima.\n",
        "\n",
        "Tan sólo ha habido que modificar la función para calcular las audiencias, ya que no es necesario comprobar si hay un partido en lunes y otro en viernes. Además, en este caso ya no ocurre que  en un mismo horario ocurran diferentes partidos, lo cual además afectaba negativamente a la audiencia."
      ]
    },
    {
      "metadata": {
        "id": "m1eyM21Vkabg",
        "colab_type": "code",
        "colab": {
          "base_uri": "https://localhost:8080/",
          "height": 238
        },
        "outputId": "efc98444-772f-4197-82d8-67597e2c7d34"
      },
      "cell_type": "code",
      "source": [
        "def organizarPartidosVoraz():\n",
        "    partidos = generarPartidosAleatorios()\n",
        "    partidosOrganizadosPorPuntos = sorted(partidos, key = lambda partido: partido[1], reverse=True)\n",
        "    estadisticasOrdenadas = sorted(range(len(estadisticasHorarios)), key=lambda k: estadisticasHorarios[k], reverse = True)\n",
        "    audiencia = calcularAudiencias(partidosOrganizadosPorPuntos, estadisticasOrdenadas)\n",
        "    return partidos, estadisticasOrdenadas, audiencia\n",
        "  \n",
        "def calcularAudiencias(partidos, horario):\n",
        "    audiencia = 0\n",
        "    for i in range(len(partidos)):\n",
        "      equipoA = partidos[i][0][0]\n",
        "      equipoB = partidos[i][0][1]\n",
        "      audiencia += tablaAudiencias[equipoA][equipoB] * estadisticasHorarios[horario[i]]\n",
        "    return audiencia\n",
        "  \n",
        "def calcularAudienciaSiEsSolucion(audiencia, horarios):\n",
        "    for dia in horarios.keys():\n",
        "        partidosPorHorario = horarios[dia][\"partidosPorHorario\"]\n",
        "        audiencia = calcularAudienciaPartidoUnico(audiencia, dia, partidosPorHorario)\n",
        "    return audiencia\n",
        "  \n",
        "organizarPartidosVoraz()"
      ],
      "execution_count": 5,
      "outputs": [
        {
          "output_type": "stream",
          "text": [
            "[(('C', 'B'), 3), (('B', 'B'), 4), (('A', 'C'), 5), (('A', 'A'), 8), (('A', 'A'), 8), (('C', 'B'), 3), (('B', 'B'), 4), (('C', 'C'), 2), (('B', 'C'), 3), (('B', 'A'), 6)]\n"
          ],
          "name": "stdout"
        },
        {
          "output_type": "execute_result",
          "data": {
            "text/plain": [
              "([(('C', 'B'), 3),\n",
              "  (('B', 'B'), 4),\n",
              "  (('A', 'C'), 5),\n",
              "  (('A', 'A'), 8),\n",
              "  (('A', 'A'), 8),\n",
              "  (('C', 'B'), 3),\n",
              "  (('B', 'B'), 4),\n",
              "  (('C', 'C'), 2),\n",
              "  (('B', 'C'), 3),\n",
              "  (('B', 'A'), 6)],\n",
              " [4, 8, 7, 3, 6, 2, 1, 5, 0, 9],\n",
              " 8.448)"
            ]
          },
          "metadata": {
            "tags": []
          },
          "execution_count": 5
        }
      ]
    },
    {
      "metadata": {
        "id": "eGDB4K6uk1iN",
        "colab_type": "text"
      },
      "cell_type": "markdown",
      "source": [
        "(*)Calcula la complejidad del algoritmo "
      ]
    },
    {
      "metadata": {
        "id": "NhpTh_BPk1ms",
        "colab_type": "text"
      },
      "cell_type": "markdown",
      "source": [
        "Respuesta: Tal y como he encontrado en este enlace https://stackoverflow.com/questions/14434490/what-is-the-complexity-of-this-python-sort-method, se dice que los métodos de ordenación propios de python tienen una complejidad de n*log(n).\n",
        "\n",
        "De este modo, la ordenación de ambas listas tiene una complejidad de 2*n*log(n), siendo n el número de partidos y el número de horarios, que en este problema coinciden.\n",
        "Por otro lado, para calcular las audiencias se puede ver un bucle con complejidad 3n.\n",
        "\n",
        "De este modo, la complejidad de este algoritmo es 2n*log(n)+3n"
      ]
    },
    {
      "metadata": {
        "id": "nREzhkStlCq8",
        "colab_type": "code",
        "colab": {}
      },
      "cell_type": "code",
      "source": [
        ""
      ],
      "execution_count": 0,
      "outputs": []
    },
    {
      "metadata": {
        "id": "3M6QjTsSkmYe",
        "colab_type": "text"
      },
      "cell_type": "markdown",
      "source": [
        "Según el problema (y tenga sentido), diseña un juego de datos de entrada aleatorios"
      ]
    },
    {
      "metadata": {
        "id": "Jc3_OlyNkvjZ",
        "colab_type": "text"
      },
      "cell_type": "markdown",
      "source": [
        "Respuesta: Para este problema se están generando aleatoriamente los partidos."
      ]
    },
    {
      "metadata": {
        "id": "sJ-N2etjkyWc",
        "colab_type": "code",
        "colab": {}
      },
      "cell_type": "code",
      "source": [
        "def generarPartidosAleatorios():\n",
        "    partidos = []\n",
        "    equipos = list(equipoCategoria)\n",
        "    random.shuffle(equipos)\n",
        "    numPartidos = int(len(equipos)/2)\n",
        "    for i in range(numPartidos):\n",
        "        equipoA = equipos[i]\n",
        "        equipoB = equipos[i+numPartidos]\n",
        "        puntos = puntosCategoria[equipoA] + puntosCategoria[equipoB]\n",
        "        partidos.append(((equipos[i],equipos[i+numPartidos]),puntos))\n",
        "    print(partidos)\n",
        "    return partidos"
      ],
      "execution_count": 0,
      "outputs": []
    },
    {
      "metadata": {
        "id": "zy5ZROmjlGo1",
        "colab_type": "text"
      },
      "cell_type": "markdown",
      "source": [
        "Aplica el algoritmo al juego de datos generado: Ya se está aplicando."
      ]
    },
    {
      "metadata": {
        "id": "_Cmj-PVylMsa",
        "colab_type": "text"
      },
      "cell_type": "markdown",
      "source": [
        "Respuesta"
      ]
    },
    {
      "metadata": {
        "id": "Jkx8GeiYlUz1",
        "colab_type": "code",
        "colab": {}
      },
      "cell_type": "code",
      "source": [
        ""
      ],
      "execution_count": 0,
      "outputs": []
    },
    {
      "metadata": {
        "colab_type": "text",
        "id": "eTFWUJQrtGcv"
      },
      "cell_type": "markdown",
      "source": [
        "Enumera las referencias que has utilizado(si ha sido necesario) para llevar a cabo el trabajo"
      ]
    },
    {
      "metadata": {
        "id": "YKQ_mRBttWsP",
        "colab_type": "text"
      },
      "cell_type": "markdown",
      "source": [
        "Respuesta"
      ]
    },
    {
      "metadata": {
        "id": "kAkDPUyRtYyH",
        "colab_type": "text"
      },
      "cell_type": "markdown",
      "source": [
        "Describe brevemente las lineas de como crees que es posible avanzar en el estudio del problema. Ten en cuenta incluso posibles variaciones del problema y/o variaciones al alza del tamaño"
      ]
    },
    {
      "metadata": {
        "id": "IE0uZmo-tZu-",
        "colab_type": "text"
      },
      "cell_type": "markdown",
      "source": [
        "Respuesta"
      ]
    }
  ]
}