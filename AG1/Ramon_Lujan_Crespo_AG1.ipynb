{
  "nbformat": 4,
  "nbformat_minor": 0,
  "metadata": {
    "colab": {
      "name": "Ramon Lujan Crespo-AG1.ipynb",
      "version": "0.3.2",
      "provenance": [],
      "collapsed_sections": [],
      "include_colab_link": true
    },
    "kernelspec": {
      "name": "python3",
      "display_name": "Python 3"
    }
  },
  "cells": [
    {
      "cell_type": "markdown",
      "metadata": {
        "id": "view-in-github",
        "colab_type": "text"
      },
      "source": [
        "<a href=\"https://colab.research.google.com/github/mrlujanero/03-MAIR--Algoritmos-De-Optimizacion--2019/blob/master/AG1/Ramon_Lujan_Crespo_AG1.ipynb\" target=\"_parent\"><img src=\"https://colab.research.google.com/assets/colab-badge.svg\" alt=\"Open In Colab\"/></a>"
      ]
    },
    {
      "metadata": {
        "id": "OJez3y2cPWjC",
        "colab_type": "text"
      },
      "cell_type": "markdown",
      "source": [
        "# AG1 - Actividad Guiada 1\n",
        "# Ramon Lujan Crespo\n",
        "# URL - https://github.com/mrlujanero/03-MAIR--Algoritmos-De-Optimizacion--2019/tree/master/AG1\n"
      ]
    },
    {
      "metadata": {
        "id": "GFK8_I-zZVu-",
        "colab_type": "code",
        "outputId": "a221e5f7-a954-4861-da90-6467c41e3ef5",
        "colab": {
          "base_uri": "https://localhost:8080/",
          "height": 51
        }
      },
      "cell_type": "code",
      "source": [
        "#quick_sort\n",
        "def quickSort(A):\n",
        "  if len(A) == 1:\n",
        "    return A\n",
        "  elif len(A) == 2:\n",
        "    return[min(A),max(A)]\n",
        "  else:\n",
        "    pivote = (A[0] + A[1] + A[2])/3\n",
        "    listIzq = []\n",
        "    listDch = []\n",
        "    for elem in A:\n",
        "      if elem <= pivote:\n",
        "        listIzq.append(elem)\n",
        "      else:\n",
        "        listDch.append(elem)\n",
        "    return quickSort(listIzq) + quickSort(listDch)\n",
        "\n",
        "@calcular_tiempo\n",
        "def qs(A):\n",
        "  print(quickSort(A))\n",
        "\n",
        "list = [9187, 244, 4054, 9222, 8373, 4993, 5265, 5470, 4519, 7182, 2035, 3506, 4337, 7580, 2554, 2824, 8357, 4447, 7379]\n",
        "qs(list)"
      ],
      "execution_count": 0,
      "outputs": [
        {
          "output_type": "stream",
          "text": [
            "[244, 2035, 2554, 2824, 3506, 4054, 4337, 4447, 4519, 4993, 5265, 5470, 7182, 7379, 7580, 8357, 8373, 9187, 9222]\n",
            "Tiempo de ejecución para algoritmo: 0.0004420280456542969\n"
          ],
          "name": "stdout"
        }
      ]
    },
    {
      "metadata": {
        "id": "mZSFjkpTkhkn",
        "colab_type": "code",
        "outputId": "8f388f12-a3e0-4fcb-cdbb-7cb399e3a6d5",
        "colab": {
          "base_uri": "https://localhost:8080/",
          "height": 51
        }
      },
      "cell_type": "code",
      "source": [
        "#quick_sort2: el pivote es la media\n",
        "def quickSort(A):\n",
        "  if len(A) == 1:\n",
        "    return A\n",
        "  elif len(A) == 2:\n",
        "    return[min(A),max(A)]\n",
        "  else:\n",
        "    pivote = sum(A)/len(A)\n",
        "    listIzq = []\n",
        "    listDch = []\n",
        "    for elem in A:\n",
        "      if elem <= pivote:\n",
        "        listIzq.append(elem)\n",
        "      else:\n",
        "        listDch.append(elem)\n",
        "    return quickSort(listIzq) + quickSort(listDch)\n",
        "\n",
        "@calcular_tiempo\n",
        "def qs(A):\n",
        "  print(quickSort(A))\n",
        "\n",
        "list = [9187, 244, 4054, 9222, 8373, 4993, 5265, 5470, 4519, 7182, 2035, 3506, 4337, 7580, 2554, 2824, 8357, 4447, 7379]\n",
        "qs(list)"
      ],
      "execution_count": 0,
      "outputs": [
        {
          "output_type": "stream",
          "text": [
            "[244, 2035, 2554, 2824, 3506, 4054, 4337, 4447, 4519, 4993, 5265, 5470, 7182, 7379, 7580, 8357, 8373, 9187, 9222]\n",
            "Tiempo de ejecución para algoritmo: 0.00042724609375\n"
          ],
          "name": "stdout"
        }
      ]
    },
    {
      "metadata": {
        "id": "4qBdZ6SMf4v5",
        "colab_type": "code",
        "colab": {}
      },
      "cell_type": "code",
      "source": [
        "#Decorador para calcular_tiempo a la función para la cual queremos calcular el tiempo de ejecución(Isabel Vázquez)\n",
        "\n",
        "from time import time\n",
        "#Función para calcular el tiempo de ejecución\n",
        "def calcular_tiempo(f):\n",
        "   \n",
        "    def wrapper(*args, **kwargs):\n",
        "        inicio = time()       \n",
        "        resultado = f(*args, **kwargs)       \n",
        "        tiempo = time() - inicio\n",
        "        print(\"Tiempo de ejecución para algoritmo: \"+str(tiempo))\n",
        "        return resultado\n",
        "    \n",
        "    return wrapper\n",
        "from time import time"
      ],
      "execution_count": 0,
      "outputs": []
    },
    {
      "metadata": {
        "id": "M76dCtl0jIXS",
        "colab_type": "code",
        "outputId": "79cfae38-44b5-48c1-e50d-503477ea2833",
        "colab": {
          "base_uri": "https://localhost:8080/",
          "height": 51
        }
      },
      "cell_type": "code",
      "source": [
        "#voraz_monedas\n",
        "\n",
        "@calcular_tiempo\n",
        "def cambio_monedas(cantidad, listaMonedas):\n",
        "  solucion = [0 for x in range(len(listaMonedas))]\n",
        "  valorAcumulado = 0\n",
        "  \n",
        "  for i in range(len(listaMonedas)):\n",
        "    monedas = int((cantidad - valorAcumulado)/listaMonedas[i])\n",
        "    solucion[i] = monedas\n",
        "    valorAcumulado += monedas * listaMonedas[i]\n",
        "    \n",
        "    if valorAcumulado == cantidad:\n",
        "      break\n",
        "    \n",
        "  return solucion\n",
        "  \n",
        "listaMonedas = [25,10,5,1]\n",
        "\n",
        "print(cambio_monedas(99,listaMonedas))"
      ],
      "execution_count": 0,
      "outputs": [
        {
          "output_type": "stream",
          "text": [
            "Tiempo de ejecución para algoritmo: 8.344650268554688e-06\n",
            "[3, 2, 0, 4]\n"
          ],
          "name": "stdout"
        }
      ]
    },
    {
      "metadata": {
        "id": "2dVt6l7yjKrG",
        "colab_type": "code",
        "outputId": "881c0ba1-b08b-4516-e59e-77c33ac174a2",
        "colab": {
          "base_uri": "https://localhost:8080/",
          "height": 51
        }
      },
      "cell_type": "code",
      "source": [
        "#voraz_monedas2: para si la cantidad es 0 o hemos llegado al limite de monedas\n",
        "\n",
        "@calcular_tiempo\n",
        "def vorazMonedas(cantidad, listaMonedas):\n",
        "  \n",
        "  listaMonedas.sort(reverse=True)\n",
        "  solucion = []\n",
        "  idx = 0\n",
        "  while(cantidad > 0 and idx < len(listaMonedas)):\n",
        "    if(cantidad >= listaMonedas[idx]):\n",
        "      solucion.append(listaMonedas[idx])\n",
        "      cantidad = cantidad - listaMonedas[idx]\n",
        "    else:\n",
        "      idx+=1\n",
        "  if cantidad != 0:\n",
        "    return \"No tiene solucion\"\n",
        "  else:\n",
        "    return solucion\n",
        "\n",
        "print(vorazMonedas(99,[25,10,5,1]))"
      ],
      "execution_count": 0,
      "outputs": [
        {
          "output_type": "stream",
          "text": [
            "Tiempo de ejecución para algoritmo: 9.5367431640625e-06\n",
            "[25, 25, 25, 10, 10, 1, 1, 1, 1]\n"
          ],
          "name": "stdout"
        }
      ]
    },
    {
      "metadata": {
        "id": "dDVGEmn6mt_u",
        "colab_type": "code",
        "outputId": "a5e558b4-3cf2-4e9d-bc3b-9d744c6c3cbe",
        "colab": {
          "base_uri": "https://localhost:8080/",
          "height": 51
        }
      },
      "cell_type": "code",
      "source": [
        "#reinas_backtracking2: iterativo\n",
        "\n",
        "@calcular_tiempo\n",
        "def backTrackingReinas(tamTablero): \n",
        "  solucion = [-1 for i in range(0,tamTablero)]   \n",
        "  col = 0   \n",
        "\n",
        "  while col < tamTablero and col >= 0:   \n",
        "    while True:     \n",
        "      solucion[col] += 1     \n",
        "      if solucion[col] > tamTablero -1:       \n",
        "        solucion[col] = -1       \n",
        "        col -= 1       \n",
        "        break     \n",
        "      elif not checkQueensAttack(solucion, col):       \n",
        "        col += 1       \n",
        "        break \n",
        "  if isSolucion(solucion):   \n",
        "    return solucion \n",
        "  return \"No existe solucion para un tablero de tamano \"+str(tamTablero)    \n",
        "\n",
        "def checkQueensAttack(solucion, col): \n",
        "  return any(queen == solucion[col] or abs(idx-col) == abs(queen - solucion[col]) for idx,queen in enumerate(solucion[0:col]))\n",
        "\n",
        "def isSolucion(solucion): \n",
        "  return not any(queen == -1 for queen in solucion)      \n",
        "\n",
        "\n",
        "print(backTrackingReinas(4))"
      ],
      "execution_count": 0,
      "outputs": [
        {
          "output_type": "stream",
          "text": [
            "Tiempo de ejecución para algoritmo: 5.817413330078125e-05\n",
            "[1, 3, 0, 2]\n"
          ],
          "name": "stdout"
        }
      ]
    },
    {
      "metadata": {
        "id": "nhXjueKscKQK",
        "colab_type": "code",
        "colab": {
          "base_uri": "https://localhost:8080/",
          "height": 51
        },
        "outputId": "192d26ec-979e-47d7-c7f7-5452d738f91b"
      },
      "cell_type": "code",
      "source": [
        "#reinas_backtracking3: en esta se calculan todas las soluciones posibles\n",
        "\n",
        "@calcular_tiempo\n",
        "def backtrackingReinasAll(tamTablero):\n",
        "  \n",
        "  soluciones = []\n",
        "  solucion = [-1 for i in range(0,tamTablero)]   \n",
        "  col = 0   \n",
        "  \n",
        "  while col < tamTablero and col >= 0:   \n",
        "    while True:     \n",
        "      solucion[col] += 1     \n",
        "      if solucion[col] > tamTablero -1:       \n",
        "        solucion[col] = -1       \n",
        "        col -= 1       \n",
        "        break     \n",
        "      elif not checkQueensAttack(solucion, col):\n",
        "        if isSolucion(solucion):\n",
        "          soluciones.append(solucion[:])\n",
        "          if solucion[-1] == tamTablero - 1:\n",
        "            solucion[-1] -= 1\n",
        "            col = 1\n",
        "        else:\n",
        "          col += 1       \n",
        "        break\n",
        "  \n",
        "  if len(soluciones) > 0:\n",
        "    return soluciones\n",
        "  return \"No existe solucion para un tablero de tamano \"+str(tamTablero)    \n",
        "\n",
        "def checkQueensAttack(solucion, col): \n",
        "  return any(queen == solucion[col] or abs(idx-col) == abs(queen - solucion[col]) for idx,queen in enumerate(solucion[0:col]))\n",
        "\n",
        "def isSolucion(solucion): \n",
        "  return not any(queen == -1 for queen in solucion)      \n",
        "\n",
        "print(backtrackingReinasAll(4))"
      ],
      "execution_count": 23,
      "outputs": [
        {
          "output_type": "stream",
          "text": [
            "Tiempo de ejecución para algoritmo: 0.00013709068298339844\n",
            "[[1, 3, 0, 2], [2, 0, 3, 1]]\n"
          ],
          "name": "stdout"
        }
      ]
    }
  ]
}