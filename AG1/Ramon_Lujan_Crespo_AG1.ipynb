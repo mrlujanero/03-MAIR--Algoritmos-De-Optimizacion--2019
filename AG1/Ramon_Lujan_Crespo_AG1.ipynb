{
  "nbformat": 4,
  "nbformat_minor": 0,
  "metadata": {
    "colab": {
      "name": "Ramon Lujan Crespo-AG1.ipynb",
      "version": "0.3.2",
      "provenance": [],
      "collapsed_sections": [],
      "include_colab_link": true
    },
    "kernelspec": {
      "name": "python3",
      "display_name": "Python 3"
    }
  },
  "cells": [
    {
      "cell_type": "markdown",
      "metadata": {
        "id": "view-in-github",
        "colab_type": "text"
      },
      "source": [
        "<a href=\"https://colab.research.google.com/github/mrlujanero/03-MAIR--Algoritmos-De-Optimizacion--2019/blob/master/AG1/Ramon_Lujan_Crespo_AG1.ipynb\" target=\"_parent\"><img src=\"https://colab.research.google.com/assets/colab-badge.svg\" alt=\"Open In Colab\"/></a>"
      ]
    },
    {
      "metadata": {
        "id": "OJez3y2cPWjC",
        "colab_type": "text"
      },
      "cell_type": "markdown",
      "source": [
        "# AG1 - Actividad Guiada 1\n",
        "# Ramon Lujan Crespo\n",
        "# URL - https://github.com/mrlujanero/03-MAIR--Algoritmos-De-Optimizacion--2019/tree/master/AG1\n"
      ]
    },
    {
      "metadata": {
        "id": "GFK8_I-zZVu-",
        "colab_type": "code",
        "colab": {}
      },
      "cell_type": "code",
      "source": [
        ""
      ],
      "execution_count": 0,
      "outputs": []
    }
  ]
}