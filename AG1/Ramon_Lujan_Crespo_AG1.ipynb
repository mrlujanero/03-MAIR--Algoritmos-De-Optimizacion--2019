{
  "nbformat": 4,
  "nbformat_minor": 0,
  "metadata": {
    "colab": {
      "name": "Ramon Lujan Crespo-AG1.ipynb",
      "version": "0.3.2",
      "provenance": [],
      "collapsed_sections": [],
      "include_colab_link": true
    },
    "kernelspec": {
      "name": "python3",
      "display_name": "Python 3"
    }
  },
  "cells": [
    {
      "cell_type": "markdown",
      "metadata": {
        "id": "view-in-github",
        "colab_type": "text"
      },
      "source": [
        "<a href=\"https://colab.research.google.com/github/mrlujanero/03-MAIR--Algoritmos-De-Optimizacion--2019/blob/master/AG1/Ramon_Lujan_Crespo_AG1.ipynb\" target=\"_parent\"><img src=\"https://colab.research.google.com/assets/colab-badge.svg\" alt=\"Open In Colab\"/></a>"
      ]
    },
    {
      "metadata": {
        "id": "OJez3y2cPWjC",
        "colab_type": "text"
      },
      "cell_type": "markdown",
      "source": [
        "# AG1 - Actividad Guiada 1\n",
        "# Ramon Lujan Crespo\n",
        "# URL - https://github.com/mrlujanero/03-MAIR--Algoritmos-De-Optimizacion--2019/tree/master/AG1\n"
      ]
    },
    {
      "metadata": {
        "id": "GFK8_I-zZVu-",
        "colab_type": "code",
        "colab": {
          "base_uri": "https://localhost:8080/",
          "height": 34
        },
        "outputId": "70f1a6bd-9a5c-4ca5-ec21-95c2398bea06"
      },
      "cell_type": "code",
      "source": [
        "#quick_sort\n",
        "def quickSort(A):\n",
        "  if len(A) == 1:\n",
        "    return A\n",
        "  elif len(A) == 2:\n",
        "    return[min(A),max(A)]\n",
        "  else:\n",
        "    pivote = (A[0] + A[1] + A[2])/3\n",
        "    listIzq = [elem for elem in A if elem < pivote]\n",
        "    listDch = [elem for elem in A if elem > pivote]\n",
        "    return quickSort(listIzq) + quickSort(listDch)\n",
        "  \n",
        "list = [9187, 244, 4054, 9222, 8373, 4993, 5265, 5470, 4519, 7182, 2035, 3506, 4337, 7580, 2554, 2824, 8357, 4447, 7379]\n",
        "print(quickSort(list))"
      ],
      "execution_count": 8,
      "outputs": [
        {
          "output_type": "stream",
          "text": [
            "[244, 2035, 2554, 2824, 3506, 4054, 4337, 4447, 4519, 4993, 5265, 5470, 7182, 7379, 7580, 8357, 8373, 9187, 9222]\n"
          ],
          "name": "stdout"
        }
      ]
    }
  ]
}